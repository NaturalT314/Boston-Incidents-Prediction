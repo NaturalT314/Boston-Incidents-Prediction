{
 "cells": [
  {
   "attachments": {},
   "cell_type": "markdown",
   "id": "ab8a4c7e",
   "metadata": {},
   "source": [
    "imports"
   ]
  },
  {
   "cell_type": "code",
   "execution_count": 22,
   "id": "20070a5d",
   "metadata": {},
   "outputs": [],
   "source": [
    "import matplotlib.pyplot as plt\n",
    "import numpy as np\n",
    "import pandas as pd\n",
    "from sklearn.model_selection import train_test_split\n",
    "from sklearn.preprocessing import LabelEncoder, OneHotEncoder, LabelBinarizer"
   ]
  },
  {
   "attachments": {},
   "cell_type": "markdown",
   "id": "a4492256",
   "metadata": {},
   "source": [
    "Imported data into pandas as dataframe"
   ]
  },
  {
   "cell_type": "code",
   "execution_count": null,
   "id": "ee40690c",
   "metadata": {},
   "outputs": [],
   "source": [
    "Incident_Data = pd.read_csv(r\"New_Dataset_Temperature.csv\", low_memory=False)"
   ]
  },
  {
   "attachments": {},
   "cell_type": "markdown",
   "id": "9069c915",
   "metadata": {},
   "source": [
    "Drop Null and irrelevant features"
   ]
  },
  {
   "cell_type": "code",
   "execution_count": null,
   "id": "ece25496",
   "metadata": {},
   "outputs": [],
   "source": [
    "Incident_Data = Incident_Data.dropna(subset=[\"DISTRICT\"])\n",
    "Incident_Data = Incident_Data.dropna(subset=[\"STREET\"])\n",
    "Incident_Data = Incident_Data.dropna(subset=[\"UCR_PART\"])\n",
    "Incident_Data = Incident_Data.dropna(subset=[\"REPORTING_AREA\"])\n",
    "Incident_Data = Incident_Data.dropna(subset=[\"Lat\"])\n",
    "Incident_Data = Incident_Data.dropna(subset=[\"Long\"])\n",
    "Incident_Data = Incident_Data.drop(\"INCIDENT_NUMBER\", axis=1)\n",
    "Incident_Data = Incident_Data.drop(\"OFFENSE_CODE_GROUP\", axis=1)\n",
    "Incident_Data = Incident_Data.drop(\"OFFENSE_DESCRIPTION\", axis=1)\n",
    "Incident_Data = Incident_Data.drop(\"SHOOTING\", axis=1)\n",
    "Incident_Data = Incident_Data.drop(\"OCCURRED_ON_DATE\", axis=1)\n",
    "Incident_Data = Incident_Data.drop(\"Location\", axis=1)\n",
    "Incident_Data = Incident_Data.drop(\"Ã¯Â»Â¿INCIDENT_NUMBER\", axis=1)"
   ]
  },
  {
   "cell_type": "code",
   "execution_count": null,
   "id": "207bb448",
   "metadata": {},
   "outputs": [],
   "source": [
    "Incident_Data.dtypes"
   ]
  },
  {
   "attachments": {},
   "cell_type": "markdown",
   "id": "de69763b",
   "metadata": {},
   "source": [
    "One Hot Encoding for non-integer data"
   ]
  },
  {
   "cell_type": "code",
   "execution_count": 25,
   "id": "9dbb0968",
   "metadata": {},
   "outputs": [
    {
     "data": {
      "text/plain": [
       "array([[0, 0, 0, ..., 0, 0, 0],\n",
       "       [0, 0, 0, ..., 0, 0, 0],\n",
       "       [0, 0, 1, ..., 0, 0, 0],\n",
       "       ...,\n",
       "       [0, 0, 0, ..., 0, 0, 0],\n",
       "       [0, 0, 0, ..., 0, 0, 0],\n",
       "       [0, 0, 0, ..., 0, 0, 0]])"
      ]
     },
     "execution_count": 25,
     "metadata": {},
     "output_type": "execute_result"
    }
   ],
   "source": [
    "encoder = LabelBinarizer(sparse_output=False)\n",
    "\n",
    "Incident_Districts = Incident_Data[\"DISTRICT\"]\n",
    "Incident_cat_1hot = encoder.fit_transform(Incident_Districts)\n",
    "Incident_cat_1hot"
   ]
  },
  {
   "cell_type": "code",
   "execution_count": null,
   "id": "f4efd5d5",
   "metadata": {},
   "outputs": [],
   "source": [
    "Incident_Data.head()"
   ]
  },
  {
   "cell_type": "code",
   "execution_count": 10,
   "id": "7f5400c4",
   "metadata": {},
   "outputs": [
    {
     "name": "stdout",
     "output_type": "stream",
     "text": [
      "<class 'pandas.core.frame.DataFrame'>\n",
      "Index: 327913 entries, 0 to 353252\n",
      "Data columns (total 12 columns):\n",
      " #   Column               Non-Null Count   Dtype  \n",
      "---  ------               --------------   -----  \n",
      " 0   OFFENSE_CODE         327913 non-null  int64  \n",
      " 1   DISTRICT             327913 non-null  object \n",
      " 2   REPORTING_AREA       327913 non-null  object \n",
      " 3   YEAR                 327913 non-null  int64  \n",
      " 4   MONTH                327913 non-null  int64  \n",
      " 5   DAY_OF_WEEK          327913 non-null  object \n",
      " 6   HOUR                 327913 non-null  int64  \n",
      " 7   UCR_PART             327913 non-null  object \n",
      " 8   STREET               327913 non-null  object \n",
      " 9   Lat                  327913 non-null  float64\n",
      " 10  Long                 327913 non-null  float64\n",
      " 11  AVERAGE_TEMPERATURE  327913 non-null  float64\n",
      "dtypes: float64(3), int64(4), object(5)\n",
      "memory usage: 32.5+ MB\n"
     ]
    }
   ],
   "source": [
    "Incident_Data.info()"
   ]
  },
  {
   "cell_type": "code",
   "execution_count": null,
   "id": "f498306c",
   "metadata": {},
   "outputs": [],
   "source": [
    "train_set, test_set = train_test_split(Incident_Data, test_size=0.3, random_state=0)"
   ]
  },
  {
   "cell_type": "code",
   "execution_count": null,
   "id": "b837f9c0",
   "metadata": {},
   "outputs": [],
   "source": [
    "import pandas as pd\n",
    "from sklearn.preprocessing import OneHotEncoder\n",
    "\n",
    "# Sample dataset\n",
    "data = {\n",
    "    'Category': ['A', 'B', 'A', 'C', 'B', 'C', 'A', 'B'],\n",
    "    'Value': [10, 20, 30, 40, 50, 60, 70, 80]\n",
    "}\n",
    "\n",
    "# Create a DataFrame from the dataset\n",
    "df = pd.DataFrame(data)\n",
    "\n",
    "# Create an instance of the OneHotEncoder class\n",
    "encoder = OneHotEncoder(sparse=False)\n",
    "\n",
    "# Select the categorical column to be one-hot encoded\n",
    "categories = df[['Category']]\n",
    "\n",
    "# Fit the encoder to the categories and transform them to one-hot encoded columns\n",
    "one_hot_encoded = encoder.fit_transform(categories)\n",
    "\n",
    "# Create a new DataFrame for the one-hot encoded columns\n",
    "encoded_df = pd.DataFrame(one_hot_encoded, columns=encoder.get_feature_names_out(['Category']))\n",
    "\n",
    "# Merge the one-hot encoded DataFrame with the original DataFrame (excluding the 'Category' column)\n",
    "result = pd.concat([df.drop('Category', axis=1), encoded_df], axis=1)\n",
    "\n",
    "print(result)"
   ]
  }
 ],
 "metadata": {
  "kernelspec": {
   "display_name": "Python 3 (ipykernel)",
   "language": "python",
   "name": "python3"
  },
  "language_info": {
   "codemirror_mode": {
    "name": "ipython",
    "version": 3
   },
   "file_extension": ".py",
   "mimetype": "text/x-python",
   "name": "python",
   "nbconvert_exporter": "python",
   "pygments_lexer": "ipython3",
   "version": "3.10.11"
  }
 },
 "nbformat": 4,
 "nbformat_minor": 5
}
