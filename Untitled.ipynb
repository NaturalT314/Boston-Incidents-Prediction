{
 "cells": [
  {
   "cell_type": "code",
   "execution_count": 1,
   "id": "20070a5d",
   "metadata": {},
   "outputs": [],
   "source": [
    "import pandas as pd\n",
    "def load_Incident_data():\n",
    "    return pd.read_csv(r\"Dataset\\New_Dataset.csv\", low_memory=False)"
   ]
  },
  {
   "cell_type": "code",
   "execution_count": 2,
   "id": "ee40690c",
   "metadata": {},
   "outputs": [],
   "source": [
    "Incident_Data = load_Incident_data()"
   ]
  },
  {
   "cell_type": "code",
   "execution_count": 5,
   "id": "f498306c",
   "metadata": {},
   "outputs": [
    {
     "name": "stdout",
     "output_type": "stream",
     "text": [
      "<class 'pandas.core.frame.DataFrame'>\n",
      "RangeIndex: 605095 entries, 0 to 605094\n",
      "Data columns (total 18 columns):\n",
      " #   Column               Non-Null Count   Dtype  \n",
      "---  ------               --------------   -----  \n",
      " 0   INCIDENT_NUMBER      541830 non-null  object \n",
      " 1   OFFENSE_CODE         605095 non-null  int64  \n",
      " 2   OFFENSE_CODE_GROUP   605095 non-null  object \n",
      " 3   OFFENSE_DESCRIPTION  605095 non-null  object \n",
      " 4   DISTRICT             601252 non-null  object \n",
      " 5   REPORTING_AREA       605095 non-null  object \n",
      " 6   SHOOTING             253297 non-null  object \n",
      " 7   OCCURRED_ON_DATE     605095 non-null  object \n",
      " 8   YEAR                 605095 non-null  int64  \n",
      " 9   MONTH                605095 non-null  int64  \n",
      " 10  DAY_OF_WEEK          605095 non-null  object \n",
      " 11  HOUR                 605095 non-null  int64  \n",
      " 12  UCR_PART             353156 non-null  object \n",
      " 13  STREET               593317 non-null  object \n",
      " 14  Lat                  571690 non-null  float64\n",
      " 15  Long                 571690 non-null  float64\n",
      " 16  Location             571690 non-null  object \n",
      " 17  ï»¿INCIDENT_NUMBER   63265 non-null   object \n",
      "dtypes: float64(2), int64(4), object(12)\n",
      "memory usage: 83.1+ MB\n"
     ]
    }
   ],
   "source": [
    "Incident_Data.info()"
   ]
  }
 ],
 "metadata": {
  "kernelspec": {
   "display_name": "Python 3 (ipykernel)",
   "language": "python",
   "name": "python3"
  },
  "language_info": {
   "codemirror_mode": {
    "name": "ipython",
    "version": 3
   },
   "file_extension": ".py",
   "mimetype": "text/x-python",
   "name": "python",
   "nbconvert_exporter": "python",
   "pygments_lexer": "ipython3",
   "version": "3.10.11"
  }
 },
 "nbformat": 4,
 "nbformat_minor": 5
}
